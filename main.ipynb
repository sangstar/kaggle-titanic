{
 "cells": [
  {
   "cell_type": "code",
   "execution_count": 1,
   "source": [
    "import pandas as pd\n",
    "import numpy as np\n",
    "import matplotlib.pyplot as plt"
   ],
   "outputs": [],
   "metadata": {}
  },
  {
   "cell_type": "code",
   "execution_count": 2,
   "source": [
    "import warnings\n",
    "warnings.simplefilter(action='ignore', category=UserWarning)"
   ],
   "outputs": [],
   "metadata": {}
  },
  {
   "cell_type": "code",
   "execution_count": 3,
   "source": [
    "train = pd.read_csv('files/train.csv')"
   ],
   "outputs": [],
   "metadata": {}
  },
  {
   "cell_type": "markdown",
   "source": [
    "## The PassengerId is directly related to the index.."
   ],
   "metadata": {}
  },
  {
   "cell_type": "code",
   "execution_count": 4,
   "source": [
    "all(train.index == train.PassengerId - 1)"
   ],
   "outputs": [
    {
     "output_type": "execute_result",
     "data": {
      "text/plain": [
       "True"
      ]
     },
     "metadata": {},
     "execution_count": 4
    }
   ],
   "metadata": {}
  },
  {
   "cell_type": "markdown",
   "source": [
    "# Looking at the data...\n",
    "\n",
    "## Any missing values?"
   ],
   "metadata": {}
  },
  {
   "cell_type": "code",
   "execution_count": 5,
   "source": [
    "train.describe()"
   ],
   "outputs": [
    {
     "output_type": "execute_result",
     "data": {
      "text/plain": [
       "       PassengerId    Survived      Pclass         Age       SibSp  \\\n",
       "count   891.000000  891.000000  891.000000  714.000000  891.000000   \n",
       "mean    446.000000    0.383838    2.308642   29.699118    0.523008   \n",
       "std     257.353842    0.486592    0.836071   14.526497    1.102743   \n",
       "min       1.000000    0.000000    1.000000    0.420000    0.000000   \n",
       "25%     223.500000    0.000000    2.000000   20.125000    0.000000   \n",
       "50%     446.000000    0.000000    3.000000   28.000000    0.000000   \n",
       "75%     668.500000    1.000000    3.000000   38.000000    1.000000   \n",
       "max     891.000000    1.000000    3.000000   80.000000    8.000000   \n",
       "\n",
       "            Parch        Fare  \n",
       "count  891.000000  891.000000  \n",
       "mean     0.381594   32.204208  \n",
       "std      0.806057   49.693429  \n",
       "min      0.000000    0.000000  \n",
       "25%      0.000000    7.910400  \n",
       "50%      0.000000   14.454200  \n",
       "75%      0.000000   31.000000  \n",
       "max      6.000000  512.329200  "
      ],
      "text/html": [
       "<div>\n",
       "<style scoped>\n",
       "    .dataframe tbody tr th:only-of-type {\n",
       "        vertical-align: middle;\n",
       "    }\n",
       "\n",
       "    .dataframe tbody tr th {\n",
       "        vertical-align: top;\n",
       "    }\n",
       "\n",
       "    .dataframe thead th {\n",
       "        text-align: right;\n",
       "    }\n",
       "</style>\n",
       "<table border=\"1\" class=\"dataframe\">\n",
       "  <thead>\n",
       "    <tr style=\"text-align: right;\">\n",
       "      <th></th>\n",
       "      <th>PassengerId</th>\n",
       "      <th>Survived</th>\n",
       "      <th>Pclass</th>\n",
       "      <th>Age</th>\n",
       "      <th>SibSp</th>\n",
       "      <th>Parch</th>\n",
       "      <th>Fare</th>\n",
       "    </tr>\n",
       "  </thead>\n",
       "  <tbody>\n",
       "    <tr>\n",
       "      <th>count</th>\n",
       "      <td>891.000000</td>\n",
       "      <td>891.000000</td>\n",
       "      <td>891.000000</td>\n",
       "      <td>714.000000</td>\n",
       "      <td>891.000000</td>\n",
       "      <td>891.000000</td>\n",
       "      <td>891.000000</td>\n",
       "    </tr>\n",
       "    <tr>\n",
       "      <th>mean</th>\n",
       "      <td>446.000000</td>\n",
       "      <td>0.383838</td>\n",
       "      <td>2.308642</td>\n",
       "      <td>29.699118</td>\n",
       "      <td>0.523008</td>\n",
       "      <td>0.381594</td>\n",
       "      <td>32.204208</td>\n",
       "    </tr>\n",
       "    <tr>\n",
       "      <th>std</th>\n",
       "      <td>257.353842</td>\n",
       "      <td>0.486592</td>\n",
       "      <td>0.836071</td>\n",
       "      <td>14.526497</td>\n",
       "      <td>1.102743</td>\n",
       "      <td>0.806057</td>\n",
       "      <td>49.693429</td>\n",
       "    </tr>\n",
       "    <tr>\n",
       "      <th>min</th>\n",
       "      <td>1.000000</td>\n",
       "      <td>0.000000</td>\n",
       "      <td>1.000000</td>\n",
       "      <td>0.420000</td>\n",
       "      <td>0.000000</td>\n",
       "      <td>0.000000</td>\n",
       "      <td>0.000000</td>\n",
       "    </tr>\n",
       "    <tr>\n",
       "      <th>25%</th>\n",
       "      <td>223.500000</td>\n",
       "      <td>0.000000</td>\n",
       "      <td>2.000000</td>\n",
       "      <td>20.125000</td>\n",
       "      <td>0.000000</td>\n",
       "      <td>0.000000</td>\n",
       "      <td>7.910400</td>\n",
       "    </tr>\n",
       "    <tr>\n",
       "      <th>50%</th>\n",
       "      <td>446.000000</td>\n",
       "      <td>0.000000</td>\n",
       "      <td>3.000000</td>\n",
       "      <td>28.000000</td>\n",
       "      <td>0.000000</td>\n",
       "      <td>0.000000</td>\n",
       "      <td>14.454200</td>\n",
       "    </tr>\n",
       "    <tr>\n",
       "      <th>75%</th>\n",
       "      <td>668.500000</td>\n",
       "      <td>1.000000</td>\n",
       "      <td>3.000000</td>\n",
       "      <td>38.000000</td>\n",
       "      <td>1.000000</td>\n",
       "      <td>0.000000</td>\n",
       "      <td>31.000000</td>\n",
       "    </tr>\n",
       "    <tr>\n",
       "      <th>max</th>\n",
       "      <td>891.000000</td>\n",
       "      <td>1.000000</td>\n",
       "      <td>3.000000</td>\n",
       "      <td>80.000000</td>\n",
       "      <td>8.000000</td>\n",
       "      <td>6.000000</td>\n",
       "      <td>512.329200</td>\n",
       "    </tr>\n",
       "  </tbody>\n",
       "</table>\n",
       "</div>"
      ]
     },
     "metadata": {},
     "execution_count": 5
    }
   ],
   "metadata": {}
  },
  {
   "cell_type": "code",
   "execution_count": 6,
   "source": [
    "train.isnull().any()"
   ],
   "outputs": [
    {
     "output_type": "execute_result",
     "data": {
      "text/plain": [
       "PassengerId    False\n",
       "Survived       False\n",
       "Pclass         False\n",
       "Name           False\n",
       "Sex            False\n",
       "Age             True\n",
       "SibSp          False\n",
       "Parch          False\n",
       "Ticket         False\n",
       "Fare           False\n",
       "Cabin           True\n",
       "Embarked        True\n",
       "dtype: bool"
      ]
     },
     "metadata": {},
     "execution_count": 6
    }
   ],
   "metadata": {}
  },
  {
   "cell_type": "markdown",
   "source": [
    "## Age has missing values. Let's look at it. "
   ],
   "metadata": {}
  },
  {
   "cell_type": "code",
   "execution_count": 7,
   "source": [
    "plt.hist(train['Age'])"
   ],
   "outputs": [
    {
     "output_type": "execute_result",
     "data": {
      "text/plain": [
       "(array([ 54.,  46., 177., 169., 118.,  70.,  45.,  24.,   9.,   2.]),\n",
       " array([ 0.42 ,  8.378, 16.336, 24.294, 32.252, 40.21 , 48.168, 56.126,\n",
       "        64.084, 72.042, 80.   ]),\n",
       " <BarContainer object of 10 artists>)"
      ]
     },
     "metadata": {},
     "execution_count": 7
    },
    {
     "output_type": "display_data",
     "data": {
      "text/plain": [
       "<Figure size 432x288 with 1 Axes>"
      ],
      "image/png": "[encoded data removed]"
     },
     "metadata": {
      "needs_background": "light"
     }
    }
   ],
   "metadata": {}
  },
  {
   "cell_type": "markdown",
   "source": [
    "## The data here is vaguely Gaussian. The choice of the median or mean in this case would offer the 'most common' age, which can be an appropriate choice to fill the missing values. However, it's not a painfully realistic assumption to assume that the missing passenger ages are all the same, so what I'll do instead is give them ages from a normal distribution centered on the 'most common' age."
   ],
   "metadata": {}
  },
  {
   "cell_type": "code",
   "execution_count": 8,
   "source": [
    "med = np.nanmedian(train['Age'])\n",
    "mean = np.nanmean(train['Age'])"
   ],
   "outputs": [],
   "metadata": {}
  },
  {
   "cell_type": "code",
   "execution_count": 9,
   "source": [
    "nans = train[train.Age.isna()]\n",
    "nans"
   ],
   "outputs": [
    {
     "output_type": "execute_result",
     "data": {
      "text/plain": [
       "     PassengerId  Survived  Pclass                                      Name  \\\n",
       "5              6         0       3                          Moran, Mr. James   \n",
       "17            18         1       2              Williams, Mr. Charles Eugene   \n",
       "19            20         1       3                   Masselmani, Mrs. Fatima   \n",
       "26            27         0       3                   Emir, Mr. Farred Chehab   \n",
       "28            29         1       3             O'Dwyer, Miss. Ellen \"Nellie\"   \n",
       "..           ...       ...     ...                                       ...   \n",
       "859          860         0       3                          Razi, Mr. Raihed   \n",
       "863          864         0       3         Sage, Miss. Dorothy Edith \"Dolly\"   \n",
       "868          869         0       3               van Melkebeke, Mr. Philemon   \n",
       "878          879         0       3                        Laleff, Mr. Kristo   \n",
       "888          889         0       3  Johnston, Miss. Catherine Helen \"Carrie\"   \n",
       "\n",
       "        Sex  Age  SibSp  Parch      Ticket     Fare Cabin Embarked  \n",
       "5      male  NaN      0      0      330877   8.4583   NaN        Q  \n",
       "17     male  NaN      0      0      244373  13.0000   NaN        S  \n",
       "19   female  NaN      0      0        2649   7.2250   NaN        C  \n",
       "26     male  NaN      0      0        2631   7.2250   NaN        C  \n",
       "28   female  NaN      0      0      330959   7.8792   NaN        Q  \n",
       "..      ...  ...    ...    ...         ...      ...   ...      ...  \n",
       "859    male  NaN      0      0        2629   7.2292   NaN        C  \n",
       "863  female  NaN      8      2    CA. 2343  69.5500   NaN        S  \n",
       "868    male  NaN      0      0      345777   9.5000   NaN        S  \n",
       "878    male  NaN      0      0      349217   7.8958   NaN        S  \n",
       "888  female  NaN      1      2  W./C. 6607  23.4500   NaN        S  \n",
       "\n",
       "[177 rows x 12 columns]"
      ],
      "text/html": [
       "<div>\n",
       "<style scoped>\n",
       "    .dataframe tbody tr th:only-of-type {\n",
       "        vertical-align: middle;\n",
       "    }\n",
       "\n",
       "    .dataframe tbody tr th {\n",
       "        vertical-align: top;\n",
       "    }\n",
       "\n",
       "    .dataframe thead th {\n",
       "        text-align: right;\n",
       "    }\n",
       "</style>\n",
       "<table border=\"1\" class=\"dataframe\">\n",
       "  <thead>\n",
       "    <tr style=\"text-align: right;\">\n",
       "      <th></th>\n",
       "      <th>PassengerId</th>\n",
       "      <th>Survived</th>\n",
       "      <th>Pclass</th>\n",
       "      <th>Name</th>\n",
       "      <th>Sex</th>\n",
       "      <th>Age</th>\n",
       "      <th>SibSp</th>\n",
       "      <th>Parch</th>\n",
       "      <th>Ticket</th>\n",
       "      <th>Fare</th>\n",
       "      <th>Cabin</th>\n",
       "      <th>Embarked</th>\n",
       "    </tr>\n",
       "  </thead>\n",
       "  <tbody>\n",
       "    <tr>\n",
       "      <th>5</th>\n",
       "      <td>6</td>\n",
       "      <td>0</td>\n",
       "      <td>3</td>\n",
       "      <td>Moran, Mr. James</td>\n",
       "      <td>male</td>\n",
       "      <td>NaN</td>\n",
       "      <td>0</td>\n",
       "      <td>0</td>\n",
       "      <td>330877</td>\n",
       "      <td>8.4583</td>\n",
       "      <td>NaN</td>\n",
       "      <td>Q</td>\n",
       "    </tr>\n",
       "    <tr>\n",
       "      <th>17</th>\n",
       "      <td>18</td>\n",
       "      <td>1</td>\n",
       "      <td>2</td>\n",
       "      <td>Williams, Mr. Charles Eugene</td>\n",
       "      <td>male</td>\n",
       "      <td>NaN</td>\n",
       "      <td>0</td>\n",
       "      <td>0</td>\n",
       "      <td>244373</td>\n",
       "      <td>13.0000</td>\n",
       "      <td>NaN</td>\n",
       "      <td>S</td>\n",
       "    </tr>\n",
       "    <tr>\n",
       "      <th>19</th>\n",
       "      <td>20</td>\n",
       "      <td>1</td>\n",
       "      <td>3</td>\n",
       "      <td>Masselmani, Mrs. Fatima</td>\n",
       "      <td>female</td>\n",
       "      <td>NaN</td>\n",
       "      <td>0</td>\n",
       "      <td>0</td>\n",
       "      <td>2649</td>\n",
       "      <td>7.2250</td>\n",
       "      <td>NaN</td>\n",
       "      <td>C</td>\n",
       "    </tr>\n",
       "    <tr>\n",
       "      <th>26</th>\n",
       "      <td>27</td>\n",
       "      <td>0</td>\n",
       "      <td>3</td>\n",
       "      <td>Emir, Mr. Farred Chehab</td>\n",
       "      <td>male</td>\n",
       "      <td>NaN</td>\n",
       "      <td>0</td>\n",
       "      <td>0</td>\n",
       "      <td>2631</td>\n",
       "      <td>7.2250</td>\n",
       "      <td>NaN</td>\n",
       "      <td>C</td>\n",
       "    </tr>\n",
       "    <tr>\n",
       "      <th>28</th>\n",
       "      <td>29</td>\n",
       "      <td>1</td>\n",
       "      <td>3</td>\n",
       "      <td>O'Dwyer, Miss. Ellen \"Nellie\"</td>\n",
       "      <td>female</td>\n",
       "      <td>NaN</td>\n",
       "      <td>0</td>\n",
       "      <td>0</td>\n",
       "      <td>330959</td>\n",
       "      <td>7.8792</td>\n",
       "      <td>NaN</td>\n",
       "      <td>Q</td>\n",
       "    </tr>\n",
       "    <tr>\n",
       "      <th>...</th>\n",
       "      <td>...</td>\n",
       "      <td>...</td>\n",
       "      <td>...</td>\n",
       "      <td>...</td>\n",
       "      <td>...</td>\n",
       "      <td>...</td>\n",
       "      <td>...</td>\n",
       "      <td>...</td>\n",
       "      <td>...</td>\n",
       "      <td>...</td>\n",
       "      <td>...</td>\n",
       "      <td>...</td>\n",
       "    </tr>\n",
       "    <tr>\n",
       "      <th>859</th>\n",
       "      <td>860</td>\n",
       "      <td>0</td>\n",
       "      <td>3</td>\n",
       "      <td>Razi, Mr. Raihed</td>\n",
       "      <td>male</td>\n",
       "      <td>NaN</td>\n",
       "      <td>0</td>\n",
       "      <td>0</td>\n",
       "      <td>2629</td>\n",
       "      <td>7.2292</td>\n",
       "      <td>NaN</td>\n",
       "      <td>C</td>\n",
       "    </tr>\n",
       "    <tr>\n",
       "      <th>863</th>\n",
       "      <td>864</td>\n",
       "      <td>0</td>\n",
       "      <td>3</td>\n",
       "      <td>Sage, Miss. Dorothy Edith \"Dolly\"</td>\n",
       "      <td>female</td>\n",
       "      <td>NaN</td>\n",
       "      <td>8</td>\n",
       "      <td>2</td>\n",
       "      <td>CA. 2343</td>\n",
       "      <td>69.5500</td>\n",
       "      <td>NaN</td>\n",
       "      <td>S</td>\n",
       "    </tr>\n",
       "    <tr>\n",
       "      <th>868</th>\n",
       "      <td>869</td>\n",
       "      <td>0</td>\n",
       "      <td>3</td>\n",
       "      <td>van Melkebeke, Mr. Philemon</td>\n",
       "      <td>male</td>\n",
       "      <td>NaN</td>\n",
       "      <td>0</td>\n",
       "      <td>0</td>\n",
       "      <td>345777</td>\n",
       "      <td>9.5000</td>\n",
       "      <td>NaN</td>\n",
       "      <td>S</td>\n",
       "    </tr>\n",
       "    <tr>\n",
       "      <th>878</th>\n",
       "      <td>879</td>\n",
       "      <td>0</td>\n",
       "      <td>3</td>\n",
       "      <td>Laleff, Mr. Kristo</td>\n",
       "      <td>male</td>\n",
       "      <td>NaN</td>\n",
       "      <td>0</td>\n",
       "      <td>0</td>\n",
       "      <td>349217</td>\n",
       "      <td>7.8958</td>\n",
       "      <td>NaN</td>\n",
       "      <td>S</td>\n",
       "    </tr>\n",
       "    <tr>\n",
       "      <th>888</th>\n",
       "      <td>889</td>\n",
       "      <td>0</td>\n",
       "      <td>3</td>\n",
       "      <td>Johnston, Miss. Catherine Helen \"Carrie\"</td>\n",
       "      <td>female</td>\n",
       "      <td>NaN</td>\n",
       "      <td>1</td>\n",
       "      <td>2</td>\n",
       "      <td>W./C. 6607</td>\n",
       "      <td>23.4500</td>\n",
       "      <td>NaN</td>\n",
       "      <td>S</td>\n",
       "    </tr>\n",
       "  </tbody>\n",
       "</table>\n",
       "<p>177 rows × 12 columns</p>\n",
       "</div>"
      ]
     },
     "metadata": {},
     "execution_count": 9
    }
   ],
   "metadata": {}
  },
  {
   "cell_type": "markdown",
   "source": [
    "## I see a lot of Pclass = 3. Is the data missing at random?"
   ],
   "metadata": {}
  },
  {
   "cell_type": "code",
   "execution_count": 10,
   "source": [
    "plt.hist(nans['Pclass'])"
   ],
   "outputs": [
    {
     "output_type": "execute_result",
     "data": {
      "text/plain": [
       "(array([ 30.,   0.,   0.,   0.,   0.,  11.,   0.,   0.,   0., 136.]),\n",
       " array([1. , 1.2, 1.4, 1.6, 1.8, 2. , 2.2, 2.4, 2.6, 2.8, 3. ]),\n",
       " <BarContainer object of 10 artists>)"
      ]
     },
     "metadata": {},
     "execution_count": 10
    },
    {
     "output_type": "display_data",
     "data": {
      "text/plain": [
       "<Figure size 432x288 with 1 Axes>"
      ],
      "image/png": "[encoded data removed]"
     },
     "metadata": {
      "needs_background": "light"
     }
    }
   ],
   "metadata": {}
  },
  {
   "cell_type": "markdown",
   "source": [
    "## It seems the data isn't missing at random, and instead the vast majority of missing ages belong to people with ticket class 3. Since the data isn't missing at random, adding 'fake' ages is probably not worth the effort, as I'd need to make sure the ages I sample from are particularly justified for ticket class 3 peoples' ages, and that would be a smaller subset of values to try and approximate to a normal distribution. I can try and remedy this by taking different cases..\n",
    "\n",
    "Looking at the titles of the person, the ticket class, the sex, etc, and using the medians/means of all of these to try and ascertain the age."
   ],
   "metadata": {}
  },
  {
   "cell_type": "markdown",
   "source": [
    "# Let's look at the data a little bit."
   ],
   "metadata": {}
  },
  {
   "cell_type": "code",
   "execution_count": 11,
   "source": [
    "train = train.reset_index(drop = True)"
   ],
   "outputs": [],
   "metadata": {}
  },
  {
   "cell_type": "code",
   "execution_count": 12,
   "source": [
    "train['PassengerId'] = range(1,len(train.index)+1)\n",
    "train['Died'] = 1 - train['Survived']"
   ],
   "outputs": [],
   "metadata": {}
  },
  {
   "cell_type": "code",
   "execution_count": 13,
   "source": [
    "for cols in train.columns:\n",
    "    print('There are ', len(set(train[cols])), 'unique values for column ', cols)"
   ],
   "outputs": [
    {
     "output_type": "stream",
     "name": "stdout",
     "text": [
      "There are  891 unique values for column  PassengerId\n",
      "There are  2 unique values for column  Survived\n",
      "There are  3 unique values for column  Pclass\n",
      "There are  891 unique values for column  Name\n",
      "There are  2 unique values for column  Sex\n",
      "There are  265 unique values for column  Age\n",
      "There are  7 unique values for column  SibSp\n",
      "There are  7 unique values for column  Parch\n",
      "There are  681 unique values for column  Ticket\n",
      "There are  248 unique values for column  Fare\n",
      "There are  148 unique values for column  Cabin\n",
      "There are  4 unique values for column  Embarked\n",
      "There are  2 unique values for column  Died\n"
     ]
    }
   ],
   "metadata": {}
  },
  {
   "cell_type": "markdown",
   "source": [
    "# Let's look at the columns without too many unique values, which are likely to be categorical."
   ],
   "metadata": {}
  },
  {
   "cell_type": "code",
   "execution_count": 14,
   "source": [
    "fig, axs = plt.subplots(ncols=3, nrows = 2, figsize=(30, 20))\n",
    "for fig, i,col in zip([0,0,0,1,1,1],[0,1,2,0,1,2],['Pclass','Sex','SibSp','Parch','Embarked','Fare']):\n",
    "    print(fig,i,col)\n",
    "    if col == 'Fare':\n",
    "        max_fare = np.max(train['Fare'])\n",
    "        plt.hist(train[train['Survived'] == 0]['Fare'], \n",
    "         stacked=True,\n",
    "         bins = 50)\n",
    "        plt.xticks([0, 0.05*max_fare, 0.1*max_fare, 0.15*max_fare, 0.2*max_fare, 0.25*max_fare])\n",
    "        plt.title('Mortality by '+col)\n",
    "        plt.xlim([0,0.25*max_fare])\n",
    "        plt.xlabel('Fare')\n",
    "        plt.show()\n",
    "\n",
    "\n",
    "    train.groupby(col).sum()['Died'].plot(kind = 'bar', ax = axs[fig][i])\n",
    "    axs[fig][i].set_title('Mortality by '+col)\n",
    "\n",
    "    i += 1"
   ],
   "outputs": [
    {
     "output_type": "stream",
     "name": "stdout",
     "text": [
      "0 0 Pclass\n",
      "0 1 Sex\n",
      "0 2 SibSp\n",
      "1 0 Parch\n",
      "1 1 Embarked\n",
      "1 2 Fare\n"
     ]
    },
    {
     "output_type": "display_data",
     "data": {
      "text/plain": [
       "<Figure size 2160x1440 with 6 Axes>"
      ],
      "image/png": "[encoded data removed]"
     },
     "metadata": {
      "needs_background": "light"
     }
    }
   ],
   "metadata": {}
  },
  {
   "cell_type": "markdown",
   "source": [
    "## Looking at the plots..\n",
    "- Clearly ticket class 3 had the most deaths.\n",
    "- Males died far more often than females.\n",
    "- People with no siblings or spouses on board were most likely to die. \n",
    "- People with no parents or children aboard were most likely to die.\n",
    "- People who had Southamptom as a port of embarkation were most likely to die.\n",
    "- People who had a lower ticket fare were more likely to die (I'm not displaying the whole range of the Fare histogram but the whole range keeps this relationship)"
   ],
   "metadata": {}
  },
  {
   "cell_type": "code",
   "execution_count": 15,
   "source": [
    "train['Family members'] = train['Parch'] + train['SibSp']"
   ],
   "outputs": [],
   "metadata": {}
  },
  {
   "cell_type": "code",
   "execution_count": 16,
   "source": [
    "train.groupby('Family members').sum()['Died'].plot(kind = 'bar')"
   ],
   "outputs": [
    {
     "output_type": "execute_result",
     "data": {
      "text/plain": [
       "<AxesSubplot:xlabel='Family members'>"
      ]
     },
     "metadata": {},
     "execution_count": 16
    },
    {
     "output_type": "display_data",
     "data": {
      "text/plain": [
       "<Figure size 432x288 with 1 Axes>"
      ],
      "image/png": "[encoded data removed]"
     },
     "metadata": {
      "needs_background": "light"
     }
    }
   ],
   "metadata": {}
  },
  {
   "cell_type": "markdown",
   "source": [
    "## So, generally speaking, having family members on board seemed to greatly increase a passenger's chance of survival."
   ],
   "metadata": {}
  },
  {
   "cell_type": "markdown",
   "source": [
    "# Now, let's work on cleaning the data up, row-by-row.\n",
    "- Just by looking at its values, Pclass and Embarked should be one-hot encoded.\n",
    "- It may be worth looking at the titles of passengers, as they're given, and seeing if they could be useful. \n",
    "- Using Ticket and Cabin will require a bit of clever thinking to use them properly. We don't have a lot of rows, so one-hot encoding can't be abused too much or our number of dimensions will get too close to our number of datapoints."
   ],
   "metadata": {}
  },
  {
   "cell_type": "markdown",
   "source": [
    "# Processing names\n",
    "## I found a list of honorifics online. I made some functions to clean the names up and test to see if I'm missing any. Any functions I have can be found in the `data_preprocessing` folder."
   ],
   "metadata": {}
  },
  {
   "cell_type": "code",
   "execution_count": 17,
   "source": [
    "from data_preprocessing.process_names import append_honorifics"
   ],
   "outputs": [],
   "metadata": {}
  },
  {
   "cell_type": "code",
   "execution_count": 19,
   "source": [
    "train = append_honorifics(train)"
   ],
   "outputs": [
    {
     "output_type": "error",
     "ename": "NameError",
     "evalue": "name 'train' is not defined",
     "traceback": [
      "\u001b[0;31m---------------------------------------------------------------------------\u001b[0m",
      "\u001b[0;31mNameError\u001b[0m                                 Traceback (most recent call last)",
      "\u001b[0;32m/var/folders/gv/zxch4f5j72d3kxhj77v41_l00000gn/T/ipykernel_36232/1009016829.py\u001b[0m in \u001b[0;36m<module>\u001b[0;34m\u001b[0m\n\u001b[0;32m----> 1\u001b[0;31m \u001b[0mtrain\u001b[0m \u001b[0;34m=\u001b[0m \u001b[0mappend_honorifics\u001b[0m\u001b[0;34m(\u001b[0m\u001b[0mtrain\u001b[0m\u001b[0;34m)\u001b[0m\u001b[0;34m\u001b[0m\u001b[0;34m\u001b[0m\u001b[0m\n\u001b[0m",
      "\u001b[0;32m~/Documents/titanic/data_preprocessing/process_names.py\u001b[0m in \u001b[0;36mappend_honorifics\u001b[0;34m(train)\u001b[0m\n\u001b[1;32m     44\u001b[0m                 \u001b[0mtrain\u001b[0m\u001b[0;34m.\u001b[0m\u001b[0mloc\u001b[0m\u001b[0;34m[\u001b[0m\u001b[0mindex\u001b[0m\u001b[0;34m,\u001b[0m \u001b[0;34m'title'\u001b[0m\u001b[0;34m]\u001b[0m \u001b[0;34m=\u001b[0m \u001b[0mwords\u001b[0m\u001b[0;34m\u001b[0m\u001b[0;34m\u001b[0m\u001b[0m\n\u001b[1;32m     45\u001b[0m     \u001b[0mmissed\u001b[0m \u001b[0;34m=\u001b[0m \u001b[0mcheck_for_missing_honorifics\u001b[0m\u001b[0;34m(\u001b[0m\u001b[0mcleaned_names\u001b[0m\u001b[0;34m,\u001b[0m \u001b[0mhonorifics\u001b[0m\u001b[0;34m)\u001b[0m\u001b[0;34m\u001b[0m\u001b[0;34m\u001b[0m\u001b[0m\n\u001b[0;32m---> 46\u001b[0;31m     \u001b[0mfix_missed_honorifics\u001b[0m\u001b[0;34m(\u001b[0m\u001b[0mmissed\u001b[0m\u001b[0;34m)\u001b[0m\u001b[0;34m\u001b[0m\u001b[0;34m\u001b[0m\u001b[0m\n\u001b[0m\u001b[1;32m     47\u001b[0m     \u001b[0;32mreturn\u001b[0m \u001b[0mtrain\u001b[0m\u001b[0;34m,\u001b[0m \u001b[0mmissed\u001b[0m\u001b[0;34m\u001b[0m\u001b[0;34m\u001b[0m\u001b[0m\n\u001b[1;32m     48\u001b[0m \u001b[0;34m\u001b[0m\u001b[0m\n",
      "\u001b[0;32m~/Documents/titanic/data_preprocessing/process_names.py\u001b[0m in \u001b[0;36mfix_missed_honorifics\u001b[0;34m(missed)\u001b[0m\n\u001b[1;32m     23\u001b[0m \u001b[0;32mdef\u001b[0m \u001b[0mfix_missed_honorifics\u001b[0m\u001b[0;34m(\u001b[0m\u001b[0mmissed\u001b[0m\u001b[0;34m)\u001b[0m\u001b[0;34m:\u001b[0m\u001b[0;34m\u001b[0m\u001b[0;34m\u001b[0m\u001b[0m\n\u001b[1;32m     24\u001b[0m     \u001b[0;32mfor\u001b[0m \u001b[0mvals\u001b[0m \u001b[0;32min\u001b[0m \u001b[0mmissed\u001b[0m\u001b[0;34m:\u001b[0m\u001b[0;34m\u001b[0m\u001b[0;34m\u001b[0m\u001b[0m\n\u001b[0;32m---> 25\u001b[0;31m         \u001b[0mto_scan\u001b[0m \u001b[0;34m=\u001b[0m \u001b[0mtrain\u001b[0m\u001b[0;34m.\u001b[0m\u001b[0miloc\u001b[0m\u001b[0;34m[\u001b[0m\u001b[0mvals\u001b[0m\u001b[0;34m]\u001b[0m\u001b[0;34m\u001b[0m\u001b[0;34m\u001b[0m\u001b[0m\n\u001b[0m\u001b[1;32m     26\u001b[0m         \u001b[0msex\u001b[0m \u001b[0;34m=\u001b[0m \u001b[0mto_scan\u001b[0m\u001b[0;34m[\u001b[0m\u001b[0;34m'Sex'\u001b[0m\u001b[0;34m]\u001b[0m\u001b[0;34m\u001b[0m\u001b[0;34m\u001b[0m\u001b[0m\n\u001b[1;32m     27\u001b[0m         \u001b[0mpclass\u001b[0m \u001b[0;34m=\u001b[0m \u001b[0mto_scan\u001b[0m\u001b[0;34m[\u001b[0m\u001b[0;34m'Pclass'\u001b[0m\u001b[0;34m]\u001b[0m\u001b[0;34m\u001b[0m\u001b[0;34m\u001b[0m\u001b[0m\n",
      "\u001b[0;31mNameError\u001b[0m: name 'train' is not defined"
     ]
    }
   ],
   "metadata": {}
  },
  {
   "cell_type": "code",
   "execution_count": null,
   "source": [
    "train.iloc[5]"
   ],
   "outputs": [
    {
     "output_type": "execute_result",
     "data": {
      "text/plain": [
       "Survived       0.0000\n",
       "Age           26.0000\n",
       "SibSp          0.0000\n",
       "Parch          0.0000\n",
       "Fare           8.4583\n",
       "Mr             1.0000\n",
       "Mrs               NaN\n",
       "Miss              NaN\n",
       "Master            NaN\n",
       "Don               NaN\n",
       "Rev               NaN\n",
       "Dr                NaN\n",
       "Mme               NaN\n",
       "Ms                NaN\n",
       "Major             NaN\n",
       "Lady              NaN\n",
       "Sir               NaN\n",
       "Mlle              NaN\n",
       "Col               NaN\n",
       "Capt              NaN\n",
       "Countess          NaN\n",
       "Sex_female     0.0000\n",
       "Sex_male       1.0000\n",
       "Pclass_1       0.0000\n",
       "Pclass_2       0.0000\n",
       "Pclass_3       1.0000\n",
       "Embarked_C     0.0000\n",
       "Embarked_Q     1.0000\n",
       "Embarked_S     0.0000\n",
       "Name: 5, dtype: float64"
      ]
     },
     "metadata": {},
     "execution_count": 32
    }
   ],
   "metadata": {}
  },
  {
   "cell_type": "markdown",
   "source": [
    "## It looks like there're a few weird honorifics. I'll add them and check again."
   ],
   "metadata": {}
  },
  {
   "cell_type": "markdown",
   "source": [
    "## Looks like the list is good now. I'm now going to append these honorifics to the dataset."
   ],
   "metadata": {}
  },
  {
   "cell_type": "code",
   "execution_count": null,
   "source": [
    "train = train.drop(columns = ['Died', 'Family members'])"
   ],
   "outputs": [],
   "metadata": {}
  },
  {
   "cell_type": "markdown",
   "source": [
    "# Dealing with missing ages\n",
    "\n",
    "## My way with dealing with the nan ages was as follows:\n",
    "\n",
    "- I needed to treat the missing values with care, because they didn't seem to be missing randomly -- most of the ones missing had a ticket class of 3, for example\n",
    "- Therefore, take identifying passenger information (gender, ticket class and title), and take a subset of the dataset with passengers who also share those attributes\n",
    "- Take the mean or median age of that population. The choice of the mean or median will come down to using the mean if the distribution passes a normality test with alpha = 1e-3, and the median otherwise. If there are too few samples with which to take a normality test for the population, see how close the mean and median are. If they're close, within 10% of eachother, just take the mean. If not, take the median since that usually implies the histogram is skewed.\n",
    "\n",
    "With every couple of iterations I'll show an age histogram of the relevant population the person who's age is NaN."
   ],
   "metadata": {}
  },
  {
   "cell_type": "code",
   "execution_count": null,
   "source": [
    "from data_preprocessing.fill_in_ages import fill_in_nan_ages\n",
    "\n",
    "train = fill_in_nan_ages(train)"
   ],
   "outputs": [
    {
     "output_type": "stream",
     "name": "stdout",
     "text": [
      "Changing  nan to  26 for  male with pclass  3 and title  Mr\n",
      "Changing  nan to  31 for  male with pclass  2 and title  Mr\n",
      "Changing  nan to  34 for  female with pclass  3 and title  Mrs\n",
      "Changing  nan to  26 for  male with pclass  3 and title  Mr\n",
      "Changing  nan to  16 for  female with pclass  3 and title  Miss\n",
      "Changing  nan to  26 for  male with pclass  3 and title  Mr\n",
      "Changing  nan to  41 for  female with pclass  1 and title  Mrs\n",
      "Changing  nan to  16 for  female with pclass  3 and title  Miss\n",
      "Changing  nan to  26 for  male with pclass  3 and title  Mr\n",
      "Changing  nan to  26 for  male with pclass  3 and title  Mr\n",
      "Changing  nan to  26 for  male with pclass  3 and title  Mr\n",
      "Changing  nan to  26 for  male with pclass  3 and title  Mr\n",
      "Changing  nan to  16 for  female with pclass  3 and title  Miss\n",
      "Changing  nan to  26 for  male with pclass  3 and title  Mr\n",
      "Changing  nan to  42 for  male with pclass  1 and title  Mr\n",
      "Changing  nan to  42 for  male with pclass  1 and title  Mr\n",
      "Changing  nan to  5 for  male with pclass  3 and title  Master\n",
      "Changing  nan to  26 for  male with pclass  3 and title  Mr\n",
      "Changing  nan to  26 for  male with pclass  3 and title  Mr\n",
      "Changing  nan to  16 for  female with pclass  3 and title  Miss\n",
      "Changing  nan to  26 for  male with pclass  3 and title  Mr\n",
      "Changing  nan to  26 for  male with pclass  3 and title  Mr\n",
      "Changing  nan to  26 for  male with pclass  3 and title  Mr\n",
      "Changing  nan to  26 for  male with pclass  3 and title  Mr\n",
      "Changing  nan to  16 for  female with pclass  3 and title  Miss\n",
      "Changing  nan to  26 for  male with pclass  3 and title  Mr\n",
      "Changing  nan to  26 for  male with pclass  3 and title  Mr\n",
      "Changing  nan to  16 for  female with pclass  3 and title  Miss\n",
      "Changing  nan to  34 for  female with pclass  3 and title  Mrs\n",
      "Changing  nan to  26 for  male with pclass  3 and title  Mr\n",
      "Changing  nan to  26 for  male with pclass  3 and title  Mr\n",
      "Changing  nan to  5 for  male with pclass  3 and title  Master\n",
      "Changing  nan to  41 for  female with pclass  1 and title  Mrs\n",
      "Changing  nan to  42 for  male with pclass  1 and title  Mr\n",
      "Changing  nan to  5 for  male with pclass  3 and title  Master\n",
      "Changing  nan to  16 for  female with pclass  3 and title  Miss\n",
      "Changing  nan to  31 for  male with pclass  2 and title  Mr\n",
      "Changing  nan to  42 for  male with pclass  1 and title  Mr\n",
      "Changing  nan to  34 for  female with pclass  3 and title  Mrs\n",
      "Changing  nan to  26 for  male with pclass  3 and title  Mr\n",
      "Changing  nan to  16 for  female with pclass  3 and title  Miss\n",
      "Changing  nan to  26 for  male with pclass  3 and title  Mr\n",
      "Changing  nan to  26 for  male with pclass  3 and title  Mr\n",
      "Changing  nan to  26 for  male with pclass  3 and title  Mr\n",
      "Changing  nan to  16 for  female with pclass  3 and title  Miss\n",
      "Changing  nan to  16 for  female with pclass  3 and title  Miss\n",
      "Changing  nan to  16 for  female with pclass  3 and title  Miss\n",
      "Changing  nan to  16 for  female with pclass  3 and title  Miss\n",
      "Changing  nan to  26 for  male with pclass  3 and title  Mr\n",
      "Changing  nan to  41 for  female with pclass  1 and title  Mrs\n",
      "Changing  nan to  26 for  male with pclass  3 and title  Mr\n",
      "Changing  nan to  16 for  female with pclass  3 and title  Miss\n",
      "Changing  nan to  42 for  male with pclass  1 and title  Mr\n",
      "Changing  nan to  16 for  female with pclass  3 and title  Miss\n",
      "Changing  nan to  31 for  male with pclass  2 and title  Mr\n",
      "Changing  nan to  42 for  male with pclass  1 and title  Mr\n",
      "Changing  nan to  42 for  male with pclass  1 and title  Mr\n",
      "Changing  nan to  42 for  male with pclass  1 and title  Mr\n",
      "Changing  nan to  16 for  female with pclass  3 and title  Miss\n",
      "Changing  nan to  26 for  male with pclass  3 and title  Mr\n",
      "Changing  nan to  22 for  female with pclass  2 and title  Miss\n",
      "Changing  nan to  26 for  male with pclass  3 and title  Mr\n",
      "Changing  nan to  30 for  female with pclass  1 and title  Miss\n",
      "Changing  nan to  26 for  male with pclass  3 and title  Mr\n",
      "Changing  nan to  16 for  female with pclass  3 and title  Miss\n",
      "Changing  nan to  41 for  female with pclass  1 and title  Mrs\n"
     ]
    },
    {
     "output_type": "display_data",
     "data": {
      "text/plain": [
       "<Figure size 432x288 with 1 Axes>"
      ],
      "image/png": "[encoded data removed]"
     },
     "metadata": {
      "needs_background": "light"
     }
    },
    {
     "output_type": "stream",
     "name": "stdout",
     "text": [
      "Changing  nan to  26 for  male with pclass  3 and title  Mr\n",
      "Changing  nan to  34 for  female with pclass  3 and title  Mrs\n",
      "Changing  nan to  42 for  male with pclass  1 and title  Mr\n",
      "Changing  nan to  26 for  male with pclass  3 and title  Mr\n",
      "Changing  nan to  16 for  female with pclass  3 and title  Miss\n",
      "Changing  nan to  16 for  female with pclass  3 and title  Miss\n",
      "Changing  nan to  26 for  male with pclass  3 and title  Mr\n",
      "Changing  nan to  34 for  female with pclass  3 and title  Mrs\n",
      "Changing  nan to  16 for  female with pclass  3 and title  Miss\n",
      "Changing  nan to  41 for  female with pclass  1 and title  Mrs\n",
      "Changing  nan to  26 for  male with pclass  3 and title  Mr\n",
      "Changing  nan to  26 for  male with pclass  3 and title  Mr\n",
      "Changing  nan to  16 for  female with pclass  3 and title  Miss\n",
      "Changing  nan to  26 for  male with pclass  3 and title  Mr\n",
      "Changing  nan to  26 for  male with pclass  3 and title  Mr\n",
      "Changing  nan to  31 for  male with pclass  2 and title  Mr\n",
      "Changing  nan to  34 for  female with pclass  3 and title  Mrs\n",
      "Changing  nan to  26 for  male with pclass  3 and title  Mr\n",
      "Changing  nan to  26 for  male with pclass  3 and title  Mr\n",
      "Changing  nan to  26 for  male with pclass  3 and title  Mr\n",
      "Changing  nan to  34 for  female with pclass  3 and title  Mrs\n",
      "Changing  nan to  26 for  male with pclass  3 and title  Mr\n",
      "Changing  nan to  26 for  male with pclass  3 and title  Mr\n",
      "Changing  nan to  26 for  male with pclass  3 and title  Mr\n",
      "Changing  nan to  41 for  female with pclass  1 and title  Mrs\n",
      "Changing  nan to  26 for  male with pclass  3 and title  Mr\n",
      "Changing  nan to  26 for  male with pclass  3 and title  Mr\n",
      "Changing  nan to  31 for  male with pclass  2 and title  Mr\n",
      "Changing  nan to  26 for  male with pclass  3 and title  Mr\n",
      "Changing  nan to  26 for  male with pclass  3 and title  Mr\n",
      "Changing  nan to  42 for  male with pclass  1 and title  Mr\n",
      "Changing  nan to  31 for  male with pclass  2 and title  Mr\n",
      "Changing  nan to  16 for  female with pclass  3 and title  Miss\n",
      "Changing  nan to  26 for  male with pclass  3 and title  Mr\n",
      "Changing  nan to  26 for  male with pclass  3 and title  Mr\n",
      "Changing  nan to  26 for  male with pclass  3 and title  Mr\n",
      "Changing  nan to  16 for  female with pclass  3 and title  Miss\n",
      "Changing  nan to  42 for  male with pclass  1 and title  Mr\n",
      "Changing  nan to  26 for  male with pclass  3 and title  Mr\n",
      "Changing  nan to  26 for  male with pclass  3 and title  Mr\n",
      "Changing  nan to  26 for  male with pclass  3 and title  Mr\n",
      "Changing  nan to  26 for  male with pclass  3 and title  Mr\n",
      "Changing  nan to  42 for  male with pclass  1 and title  Mr\n",
      "Changing  nan to  26 for  male with pclass  3 and title  Mr\n",
      "Changing  nan to  34 for  female with pclass  3 and title  Mrs\n",
      "Changing  nan to  26 for  male with pclass  3 and title  Mr\n",
      "Changing  nan to  31 for  male with pclass  2 and title  Mr\n",
      "Changing  nan to  26 for  male with pclass  3 and title  Mr\n",
      "Changing  nan to  42 for  male with pclass  1 and title  Mr\n",
      "Changing  nan to  26 for  male with pclass  3 and title  Mr\n",
      "Changing  nan to  26 for  male with pclass  3 and title  Mr\n"
     ]
    },
    {
     "output_type": "display_data",
     "data": {
      "text/plain": [
       "<Figure size 432x288 with 1 Axes>"
      ],
      "image/png": "[encoded data removed]"
     },
     "metadata": {
      "needs_background": "light"
     }
    },
    {
     "output_type": "stream",
     "name": "stdout",
     "text": [
      "Changing  nan to  16 for  female with pclass  3 and title  Miss\n",
      "Changing  nan to  26 for  male with pclass  3 and title  Mr\n"
     ]
    },
    {
     "output_type": "display_data",
     "data": {
      "text/plain": [
       "<Figure size 432x288 with 1 Axes>"
      ],
      "image/png": "[encoded data removed]"
     },
     "metadata": {
      "needs_background": "light"
     }
    },
    {
     "output_type": "stream",
     "name": "stdout",
     "text": [
      "Changing  nan to  16 for  female with pclass  3 and title  Miss\n",
      "Changing  nan to  34 for  female with pclass  3 and title  Mrs\n",
      "Changing  nan to  26 for  male with pclass  3 and title  Mr\n",
      "Changing  nan to  26 for  male with pclass  3 and title  Mr\n",
      "Changing  nan to  16 for  female with pclass  3 and title  Miss\n",
      "Changing  nan to  22 for  female with pclass  2 and title  Miss\n",
      "Changing  nan to  26 for  male with pclass  3 and title  Mr\n",
      "Changing  nan to  26 for  male with pclass  3 and title  Mr\n",
      "Changing  nan to  42 for  male with pclass  1 and title  Mr\n"
     ]
    },
    {
     "output_type": "display_data",
     "data": {
      "text/plain": [
       "<Figure size 432x288 with 1 Axes>"
      ],
      "image/png": "[encoded data removed]"
     },
     "metadata": {
      "needs_background": "light"
     }
    },
    {
     "output_type": "stream",
     "name": "stdout",
     "text": [
      "Changing  nan to  26 for  male with pclass  3 and title  Mr\n",
      "Changing  nan to  16 for  female with pclass  3 and title  Miss\n",
      "Changing  nan to  26 for  male with pclass  3 and title  Mr\n",
      "Changing  nan to  26 for  male with pclass  3 and title  Mr\n"
     ]
    },
    {
     "output_type": "display_data",
     "data": {
      "text/plain": [
       "<Figure size 432x288 with 1 Axes>"
      ],
      "image/png": "[encoded data removed]"
     },
     "metadata": {
      "needs_background": "light"
     }
    },
    {
     "output_type": "stream",
     "name": "stdout",
     "text": [
      "Changing  nan to  42 for  male with pclass  1 and title  Mr\n",
      "Changing  nan to  26 for  male with pclass  3 and title  Mr\n",
      "Changing  nan to  26 for  male with pclass  3 and title  Mr\n",
      "Changing  nan to  26 for  male with pclass  3 and title  Mr\n",
      "Changing  nan to  26 for  male with pclass  3 and title  Mr\n",
      "Changing  nan to  16 for  female with pclass  3 and title  Miss\n",
      "Changing  nan to  26 for  male with pclass  3 and title  Mr\n",
      "Changing  nan to  26 for  male with pclass  3 and title  Mr\n",
      "Changing  nan to  41 for  female with pclass  1 and title  Mrs\n",
      "Changing  nan to  31 for  male with pclass  2 and title  Mr\n",
      "Changing  nan to  16 for  female with pclass  3 and title  Miss\n",
      "Changing  nan to  26 for  male with pclass  3 and title  Mr\n",
      "Changing  nan to  16 for  female with pclass  3 and title  Miss\n",
      "Changing  nan to  5 for  male with pclass  3 and title  Master\n",
      "Changing  nan to  42 for  male with pclass  1 and title  Mr\n",
      "Changing  nan to  26 for  male with pclass  3 and title  Mr\n",
      "Changing  nan to  16 for  female with pclass  3 and title  Miss\n",
      "Changing  nan to  31 for  male with pclass  2 and title  Mr\n",
      "Changing  nan to  26 for  male with pclass  3 and title  Mr\n",
      "Changing  nan to  26 for  male with pclass  3 and title  Mr\n",
      "Changing  nan to  42 for  male with pclass  1 and title  Mr\n",
      "Changing  nan to  26 for  male with pclass  3 and title  Mr\n",
      "less than 8 samples\n",
      "42.0 44.0\n",
      "Changing  nan to  42 for  male with pclass  1 and title  Dr\n",
      "Changing  nan to  26 for  male with pclass  3 and title  Mr\n",
      "Changing  nan to  26 for  male with pclass  3 and title  Mr\n",
      "Changing  nan to  26 for  male with pclass  3 and title  Mr\n",
      "Changing  nan to  26 for  male with pclass  3 and title  Mr\n",
      "Changing  nan to  26 for  male with pclass  3 and title  Mr\n",
      "Changing  nan to  26 for  male with pclass  3 and title  Mr\n",
      "Changing  nan to  16 for  female with pclass  3 and title  Miss\n",
      "Changing  nan to  42 for  male with pclass  1 and title  Mr\n",
      "Changing  nan to  42 for  male with pclass  1 and title  Mr\n",
      "Changing  nan to  26 for  male with pclass  3 and title  Mr\n",
      "Changing  nan to  26 for  male with pclass  3 and title  Mr\n",
      "Changing  nan to  26 for  male with pclass  3 and title  Mr\n",
      "Changing  nan to  26 for  male with pclass  3 and title  Mr\n",
      "Changing  nan to  26 for  male with pclass  3 and title  Mr\n",
      "Changing  nan to  42 for  male with pclass  1 and title  Mr\n",
      "Changing  nan to  26 for  male with pclass  3 and title  Mr\n",
      "Changing  nan to  41 for  female with pclass  1 and title  Mrs\n",
      "Changing  nan to  26 for  male with pclass  3 and title  Mr\n",
      "Changing  nan to  16 for  female with pclass  3 and title  Miss\n"
     ]
    },
    {
     "output_type": "display_data",
     "data": {
      "text/plain": [
       "<Figure size 432x288 with 1 Axes>"
      ],
      "image/png": "[encoded data removed]"
     },
     "metadata": {
      "needs_background": "light"
     }
    },
    {
     "output_type": "stream",
     "name": "stdout",
     "text": [
      "Changing  nan to  26 for  male with pclass  3 and title  Mr\n",
      "Changing  nan to  26 for  male with pclass  3 and title  Mr\n",
      "Changing  nan to  16 for  female with pclass  3 and title  Miss\n"
     ]
    }
   ],
   "metadata": {}
  },
  {
   "cell_type": "markdown",
   "source": [
    "## And to check that we have no more missing age values.."
   ],
   "metadata": {}
  },
  {
   "cell_type": "code",
   "execution_count": null,
   "source": [
    "train.describe()"
   ],
   "outputs": [
    {
     "output_type": "execute_result",
     "data": {
      "text/plain": [
       "       PassengerId    Survived      Pclass         Age       SibSp  \\\n",
       "count   891.000000  891.000000  891.000000  891.000000  891.000000   \n",
       "mean    446.000000    0.383838    2.308642   29.138238    0.523008   \n",
       "std     257.353842    0.486592    0.836071   13.596951    1.102743   \n",
       "min       1.000000    0.000000    1.000000    0.420000    0.000000   \n",
       "25%     223.500000    0.000000    2.000000   21.000000    0.000000   \n",
       "50%     446.000000    0.000000    3.000000   26.000000    0.000000   \n",
       "75%     668.500000    1.000000    3.000000   36.750000    1.000000   \n",
       "max     891.000000    1.000000    3.000000   80.000000    8.000000   \n",
       "\n",
       "            Parch        Fare     Mr    Mrs   Miss  ...   Dr  Mme   Ms  Major  \\\n",
       "count  891.000000  891.000000  518.0  129.0  182.0  ...  7.0  1.0  1.0    2.0   \n",
       "mean     0.381594   32.204208    1.0    1.0    1.0  ...  1.0  1.0  1.0    1.0   \n",
       "std      0.806057   49.693429    0.0    0.0    0.0  ...  0.0  NaN  NaN    0.0   \n",
       "min      0.000000    0.000000    1.0    1.0    1.0  ...  1.0  1.0  1.0    1.0   \n",
       "25%      0.000000    7.910400    1.0    1.0    1.0  ...  1.0  1.0  1.0    1.0   \n",
       "50%      0.000000   14.454200    1.0    1.0    1.0  ...  1.0  1.0  1.0    1.0   \n",
       "75%      0.000000   31.000000    1.0    1.0    1.0  ...  1.0  1.0  1.0    1.0   \n",
       "max      6.000000  512.329200    1.0    1.0    1.0  ...  1.0  1.0  1.0    1.0   \n",
       "\n",
       "       Lady  Sir  Mlle  Col  Capt  Countess  \n",
       "count   1.0  1.0   2.0  2.0   1.0       1.0  \n",
       "mean    1.0  1.0   1.0  1.0   1.0       1.0  \n",
       "std     NaN  NaN   0.0  0.0   NaN       NaN  \n",
       "min     1.0  1.0   1.0  1.0   1.0       1.0  \n",
       "25%     1.0  1.0   1.0  1.0   1.0       1.0  \n",
       "50%     1.0  1.0   1.0  1.0   1.0       1.0  \n",
       "75%     1.0  1.0   1.0  1.0   1.0       1.0  \n",
       "max     1.0  1.0   1.0  1.0   1.0       1.0  \n",
       "\n",
       "[8 rows x 23 columns]"
      ],
      "text/html": [
       "<div>\n",
       "<style scoped>\n",
       "    .dataframe tbody tr th:only-of-type {\n",
       "        vertical-align: middle;\n",
       "    }\n",
       "\n",
       "    .dataframe tbody tr th {\n",
       "        vertical-align: top;\n",
       "    }\n",
       "\n",
       "    .dataframe thead th {\n",
       "        text-align: right;\n",
       "    }\n",
       "</style>\n",
       "<table border=\"1\" class=\"dataframe\">\n",
       "  <thead>\n",
       "    <tr style=\"text-align: right;\">\n",
       "      <th></th>\n",
       "      <th>PassengerId</th>\n",
       "      <th>Survived</th>\n",
       "      <th>Pclass</th>\n",
       "      <th>Age</th>\n",
       "      <th>SibSp</th>\n",
       "      <th>Parch</th>\n",
       "      <th>Fare</th>\n",
       "      <th>Mr</th>\n",
       "      <th>Mrs</th>\n",
       "      <th>Miss</th>\n",
       "      <th>...</th>\n",
       "      <th>Dr</th>\n",
       "      <th>Mme</th>\n",
       "      <th>Ms</th>\n",
       "      <th>Major</th>\n",
       "      <th>Lady</th>\n",
       "      <th>Sir</th>\n",
       "      <th>Mlle</th>\n",
       "      <th>Col</th>\n",
       "      <th>Capt</th>\n",
       "      <th>Countess</th>\n",
       "    </tr>\n",
       "  </thead>\n",
       "  <tbody>\n",
       "    <tr>\n",
       "      <th>count</th>\n",
       "      <td>891.000000</td>\n",
       "      <td>891.000000</td>\n",
       "      <td>891.000000</td>\n",
       "      <td>891.000000</td>\n",
       "      <td>891.000000</td>\n",
       "      <td>891.000000</td>\n",
       "      <td>891.000000</td>\n",
       "      <td>518.0</td>\n",
       "      <td>129.0</td>\n",
       "      <td>182.0</td>\n",
       "      <td>...</td>\n",
       "      <td>7.0</td>\n",
       "      <td>1.0</td>\n",
       "      <td>1.0</td>\n",
       "      <td>2.0</td>\n",
       "      <td>1.0</td>\n",
       "      <td>1.0</td>\n",
       "      <td>2.0</td>\n",
       "      <td>2.0</td>\n",
       "      <td>1.0</td>\n",
       "      <td>1.0</td>\n",
       "    </tr>\n",
       "    <tr>\n",
       "      <th>mean</th>\n",
       "      <td>446.000000</td>\n",
       "      <td>0.383838</td>\n",
       "      <td>2.308642</td>\n",
       "      <td>29.138238</td>\n",
       "      <td>0.523008</td>\n",
       "      <td>0.381594</td>\n",
       "      <td>32.204208</td>\n",
       "      <td>1.0</td>\n",
       "      <td>1.0</td>\n",
       "      <td>1.0</td>\n",
       "      <td>...</td>\n",
       "      <td>1.0</td>\n",
       "      <td>1.0</td>\n",
       "      <td>1.0</td>\n",
       "      <td>1.0</td>\n",
       "      <td>1.0</td>\n",
       "      <td>1.0</td>\n",
       "      <td>1.0</td>\n",
       "      <td>1.0</td>\n",
       "      <td>1.0</td>\n",
       "      <td>1.0</td>\n",
       "    </tr>\n",
       "    <tr>\n",
       "      <th>std</th>\n",
       "      <td>257.353842</td>\n",
       "      <td>0.486592</td>\n",
       "      <td>0.836071</td>\n",
       "      <td>13.596951</td>\n",
       "      <td>1.102743</td>\n",
       "      <td>0.806057</td>\n",
       "      <td>49.693429</td>\n",
       "      <td>0.0</td>\n",
       "      <td>0.0</td>\n",
       "      <td>0.0</td>\n",
       "      <td>...</td>\n",
       "      <td>0.0</td>\n",
       "      <td>NaN</td>\n",
       "      <td>NaN</td>\n",
       "      <td>0.0</td>\n",
       "      <td>NaN</td>\n",
       "      <td>NaN</td>\n",
       "      <td>0.0</td>\n",
       "      <td>0.0</td>\n",
       "      <td>NaN</td>\n",
       "      <td>NaN</td>\n",
       "    </tr>\n",
       "    <tr>\n",
       "      <th>min</th>\n",
       "      <td>1.000000</td>\n",
       "      <td>0.000000</td>\n",
       "      <td>1.000000</td>\n",
       "      <td>0.420000</td>\n",
       "      <td>0.000000</td>\n",
       "      <td>0.000000</td>\n",
       "      <td>0.000000</td>\n",
       "      <td>1.0</td>\n",
       "      <td>1.0</td>\n",
       "      <td>1.0</td>\n",
       "      <td>...</td>\n",
       "      <td>1.0</td>\n",
       "      <td>1.0</td>\n",
       "      <td>1.0</td>\n",
       "      <td>1.0</td>\n",
       "      <td>1.0</td>\n",
       "      <td>1.0</td>\n",
       "      <td>1.0</td>\n",
       "      <td>1.0</td>\n",
       "      <td>1.0</td>\n",
       "      <td>1.0</td>\n",
       "    </tr>\n",
       "    <tr>\n",
       "      <th>25%</th>\n",
       "      <td>223.500000</td>\n",
       "      <td>0.000000</td>\n",
       "      <td>2.000000</td>\n",
       "      <td>21.000000</td>\n",
       "      <td>0.000000</td>\n",
       "      <td>0.000000</td>\n",
       "      <td>7.910400</td>\n",
       "      <td>1.0</td>\n",
       "      <td>1.0</td>\n",
       "      <td>1.0</td>\n",
       "      <td>...</td>\n",
       "      <td>1.0</td>\n",
       "      <td>1.0</td>\n",
       "      <td>1.0</td>\n",
       "      <td>1.0</td>\n",
       "      <td>1.0</td>\n",
       "      <td>1.0</td>\n",
       "      <td>1.0</td>\n",
       "      <td>1.0</td>\n",
       "      <td>1.0</td>\n",
       "      <td>1.0</td>\n",
       "    </tr>\n",
       "    <tr>\n",
       "      <th>50%</th>\n",
       "      <td>446.000000</td>\n",
       "      <td>0.000000</td>\n",
       "      <td>3.000000</td>\n",
       "      <td>26.000000</td>\n",
       "      <td>0.000000</td>\n",
       "      <td>0.000000</td>\n",
       "      <td>14.454200</td>\n",
       "      <td>1.0</td>\n",
       "      <td>1.0</td>\n",
       "      <td>1.0</td>\n",
       "      <td>...</td>\n",
       "      <td>1.0</td>\n",
       "      <td>1.0</td>\n",
       "      <td>1.0</td>\n",
       "      <td>1.0</td>\n",
       "      <td>1.0</td>\n",
       "      <td>1.0</td>\n",
       "      <td>1.0</td>\n",
       "      <td>1.0</td>\n",
       "      <td>1.0</td>\n",
       "      <td>1.0</td>\n",
       "    </tr>\n",
       "    <tr>\n",
       "      <th>75%</th>\n",
       "      <td>668.500000</td>\n",
       "      <td>1.000000</td>\n",
       "      <td>3.000000</td>\n",
       "      <td>36.750000</td>\n",
       "      <td>1.000000</td>\n",
       "      <td>0.000000</td>\n",
       "      <td>31.000000</td>\n",
       "      <td>1.0</td>\n",
       "      <td>1.0</td>\n",
       "      <td>1.0</td>\n",
       "      <td>...</td>\n",
       "      <td>1.0</td>\n",
       "      <td>1.0</td>\n",
       "      <td>1.0</td>\n",
       "      <td>1.0</td>\n",
       "      <td>1.0</td>\n",
       "      <td>1.0</td>\n",
       "      <td>1.0</td>\n",
       "      <td>1.0</td>\n",
       "      <td>1.0</td>\n",
       "      <td>1.0</td>\n",
       "    </tr>\n",
       "    <tr>\n",
       "      <th>max</th>\n",
       "      <td>891.000000</td>\n",
       "      <td>1.000000</td>\n",
       "      <td>3.000000</td>\n",
       "      <td>80.000000</td>\n",
       "      <td>8.000000</td>\n",
       "      <td>6.000000</td>\n",
       "      <td>512.329200</td>\n",
       "      <td>1.0</td>\n",
       "      <td>1.0</td>\n",
       "      <td>1.0</td>\n",
       "      <td>...</td>\n",
       "      <td>1.0</td>\n",
       "      <td>1.0</td>\n",
       "      <td>1.0</td>\n",
       "      <td>1.0</td>\n",
       "      <td>1.0</td>\n",
       "      <td>1.0</td>\n",
       "      <td>1.0</td>\n",
       "      <td>1.0</td>\n",
       "      <td>1.0</td>\n",
       "      <td>1.0</td>\n",
       "    </tr>\n",
       "  </tbody>\n",
       "</table>\n",
       "<p>8 rows × 23 columns</p>\n",
       "</div>"
      ]
     },
     "metadata": {},
     "execution_count": 22
    }
   ],
   "metadata": {}
  },
  {
   "cell_type": "markdown",
   "source": [
    "## Dealing with Ticket and Cabin"
   ],
   "metadata": {}
  },
  {
   "cell_type": "code",
   "execution_count": null,
   "source": [
    "train.Cabin.isna().sum()"
   ],
   "outputs": [
    {
     "output_type": "execute_result",
     "data": {
      "text/plain": [
       "687"
      ]
     },
     "metadata": {},
     "execution_count": 23
    }
   ],
   "metadata": {}
  },
  {
   "cell_type": "markdown",
   "source": [
    "Ticket and Cabin are very unwieldy columns. There are some resources online saying Ticket has meaning, but I'd then have to think about how I'd deal with the data -- it couldn't be considered categorical. I'm going to elect to discard it.\n",
    "\n",
    "Cabin, meanwhile, has most of its values a NaN, so I'm going to drop it, as I couldn't really justify filling those NaNs with something. I'm also going to drop Died, because I'm not using it anymore. I'm also going to drop PassengerId because it's redundant."
   ],
   "metadata": {}
  },
  {
   "cell_type": "code",
   "execution_count": null,
   "source": [
    "train = train.drop(columns = ['Ticket','Cabin', 'PassengerId', 'Name','title'])"
   ],
   "outputs": [],
   "metadata": {}
  },
  {
   "cell_type": "markdown",
   "source": [
    "## Now to one-hot encode the obvious columns: Sex, Pclass and Embarked."
   ],
   "metadata": {}
  },
  {
   "cell_type": "code",
   "execution_count": null,
   "source": [
    "train=pd.get_dummies(train, columns = ['Sex', 'Pclass','Embarked'])"
   ],
   "outputs": [],
   "metadata": {}
  },
  {
   "cell_type": "markdown",
   "source": [
    "## Here's how the data looks now."
   ],
   "metadata": {}
  },
  {
   "cell_type": "code",
   "execution_count": null,
   "source": [
    "train"
   ],
   "outputs": [
    {
     "output_type": "execute_result",
     "data": {
      "text/plain": [
       "     Survived   Age  SibSp  Parch     Fare   Mr  Mrs  Miss  Master  Don  ...  \\\n",
       "0           0  22.0      1      0   7.2500  1.0  NaN   NaN     NaN  NaN  ...   \n",
       "1           1  38.0      1      0  71.2833  NaN  1.0   NaN     NaN  NaN  ...   \n",
       "2           1  26.0      0      0   7.9250  NaN  NaN   1.0     NaN  NaN  ...   \n",
       "3           1  35.0      1      0  53.1000  NaN  1.0   NaN     NaN  NaN  ...   \n",
       "4           0  35.0      0      0   8.0500  1.0  NaN   NaN     NaN  NaN  ...   \n",
       "..        ...   ...    ...    ...      ...  ...  ...   ...     ...  ...  ...   \n",
       "886         0  27.0      0      0  13.0000  NaN  NaN   NaN     NaN  NaN  ...   \n",
       "887         1  19.0      0      0  30.0000  NaN  NaN   1.0     NaN  NaN  ...   \n",
       "888         0  16.0      1      2  23.4500  NaN  NaN   1.0     NaN  NaN  ...   \n",
       "889         1  26.0      0      0  30.0000  1.0  NaN   NaN     NaN  NaN  ...   \n",
       "890         0  32.0      0      0   7.7500  1.0  NaN   NaN     NaN  NaN  ...   \n",
       "\n",
       "     Capt  Countess  Sex_female  Sex_male  Pclass_1  Pclass_2  Pclass_3  \\\n",
       "0     NaN       NaN           0         1         0         0         1   \n",
       "1     NaN       NaN           1         0         1         0         0   \n",
       "2     NaN       NaN           1         0         0         0         1   \n",
       "3     NaN       NaN           1         0         1         0         0   \n",
       "4     NaN       NaN           0         1         0         0         1   \n",
       "..    ...       ...         ...       ...       ...       ...       ...   \n",
       "886   NaN       NaN           0         1         0         1         0   \n",
       "887   NaN       NaN           1         0         1         0         0   \n",
       "888   NaN       NaN           1         0         0         0         1   \n",
       "889   NaN       NaN           0         1         1         0         0   \n",
       "890   NaN       NaN           0         1         0         0         1   \n",
       "\n",
       "     Embarked_C  Embarked_Q  Embarked_S  \n",
       "0             0           0           1  \n",
       "1             1           0           0  \n",
       "2             0           0           1  \n",
       "3             0           0           1  \n",
       "4             0           0           1  \n",
       "..          ...         ...         ...  \n",
       "886           0           0           1  \n",
       "887           0           0           1  \n",
       "888           0           0           1  \n",
       "889           1           0           0  \n",
       "890           0           1           0  \n",
       "\n",
       "[891 rows x 29 columns]"
      ],
      "text/html": [
       "<div>\n",
       "<style scoped>\n",
       "    .dataframe tbody tr th:only-of-type {\n",
       "        vertical-align: middle;\n",
       "    }\n",
       "\n",
       "    .dataframe tbody tr th {\n",
       "        vertical-align: top;\n",
       "    }\n",
       "\n",
       "    .dataframe thead th {\n",
       "        text-align: right;\n",
       "    }\n",
       "</style>\n",
       "<table border=\"1\" class=\"dataframe\">\n",
       "  <thead>\n",
       "    <tr style=\"text-align: right;\">\n",
       "      <th></th>\n",
       "      <th>Survived</th>\n",
       "      <th>Age</th>\n",
       "      <th>SibSp</th>\n",
       "      <th>Parch</th>\n",
       "      <th>Fare</th>\n",
       "      <th>Mr</th>\n",
       "      <th>Mrs</th>\n",
       "      <th>Miss</th>\n",
       "      <th>Master</th>\n",
       "      <th>Don</th>\n",
       "      <th>...</th>\n",
       "      <th>Capt</th>\n",
       "      <th>Countess</th>\n",
       "      <th>Sex_female</th>\n",
       "      <th>Sex_male</th>\n",
       "      <th>Pclass_1</th>\n",
       "      <th>Pclass_2</th>\n",
       "      <th>Pclass_3</th>\n",
       "      <th>Embarked_C</th>\n",
       "      <th>Embarked_Q</th>\n",
       "      <th>Embarked_S</th>\n",
       "    </tr>\n",
       "  </thead>\n",
       "  <tbody>\n",
       "    <tr>\n",
       "      <th>0</th>\n",
       "      <td>0</td>\n",
       "      <td>22.0</td>\n",
       "      <td>1</td>\n",
       "      <td>0</td>\n",
       "      <td>7.2500</td>\n",
       "      <td>1.0</td>\n",
       "      <td>NaN</td>\n",
       "      <td>NaN</td>\n",
       "      <td>NaN</td>\n",
       "      <td>NaN</td>\n",
       "      <td>...</td>\n",
       "      <td>NaN</td>\n",
       "      <td>NaN</td>\n",
       "      <td>0</td>\n",
       "      <td>1</td>\n",
       "      <td>0</td>\n",
       "      <td>0</td>\n",
       "      <td>1</td>\n",
       "      <td>0</td>\n",
       "      <td>0</td>\n",
       "      <td>1</td>\n",
       "    </tr>\n",
       "    <tr>\n",
       "      <th>1</th>\n",
       "      <td>1</td>\n",
       "      <td>38.0</td>\n",
       "      <td>1</td>\n",
       "      <td>0</td>\n",
       "      <td>71.2833</td>\n",
       "      <td>NaN</td>\n",
       "      <td>1.0</td>\n",
       "      <td>NaN</td>\n",
       "      <td>NaN</td>\n",
       "      <td>NaN</td>\n",
       "      <td>...</td>\n",
       "      <td>NaN</td>\n",
       "      <td>NaN</td>\n",
       "      <td>1</td>\n",
       "      <td>0</td>\n",
       "      <td>1</td>\n",
       "      <td>0</td>\n",
       "      <td>0</td>\n",
       "      <td>1</td>\n",
       "      <td>0</td>\n",
       "      <td>0</td>\n",
       "    </tr>\n",
       "    <tr>\n",
       "      <th>2</th>\n",
       "      <td>1</td>\n",
       "      <td>26.0</td>\n",
       "      <td>0</td>\n",
       "      <td>0</td>\n",
       "      <td>7.9250</td>\n",
       "      <td>NaN</td>\n",
       "      <td>NaN</td>\n",
       "      <td>1.0</td>\n",
       "      <td>NaN</td>\n",
       "      <td>NaN</td>\n",
       "      <td>...</td>\n",
       "      <td>NaN</td>\n",
       "      <td>NaN</td>\n",
       "      <td>1</td>\n",
       "      <td>0</td>\n",
       "      <td>0</td>\n",
       "      <td>0</td>\n",
       "      <td>1</td>\n",
       "      <td>0</td>\n",
       "      <td>0</td>\n",
       "      <td>1</td>\n",
       "    </tr>\n",
       "    <tr>\n",
       "      <th>3</th>\n",
       "      <td>1</td>\n",
       "      <td>35.0</td>\n",
       "      <td>1</td>\n",
       "      <td>0</td>\n",
       "      <td>53.1000</td>\n",
       "      <td>NaN</td>\n",
       "      <td>1.0</td>\n",
       "      <td>NaN</td>\n",
       "      <td>NaN</td>\n",
       "      <td>NaN</td>\n",
       "      <td>...</td>\n",
       "      <td>NaN</td>\n",
       "      <td>NaN</td>\n",
       "      <td>1</td>\n",
       "      <td>0</td>\n",
       "      <td>1</td>\n",
       "      <td>0</td>\n",
       "      <td>0</td>\n",
       "      <td>0</td>\n",
       "      <td>0</td>\n",
       "      <td>1</td>\n",
       "    </tr>\n",
       "    <tr>\n",
       "      <th>4</th>\n",
       "      <td>0</td>\n",
       "      <td>35.0</td>\n",
       "      <td>0</td>\n",
       "      <td>0</td>\n",
       "      <td>8.0500</td>\n",
       "      <td>1.0</td>\n",
       "      <td>NaN</td>\n",
       "      <td>NaN</td>\n",
       "      <td>NaN</td>\n",
       "      <td>NaN</td>\n",
       "      <td>...</td>\n",
       "      <td>NaN</td>\n",
       "      <td>NaN</td>\n",
       "      <td>0</td>\n",
       "      <td>1</td>\n",
       "      <td>0</td>\n",
       "      <td>0</td>\n",
       "      <td>1</td>\n",
       "      <td>0</td>\n",
       "      <td>0</td>\n",
       "      <td>1</td>\n",
       "    </tr>\n",
       "    <tr>\n",
       "      <th>...</th>\n",
       "      <td>...</td>\n",
       "      <td>...</td>\n",
       "      <td>...</td>\n",
       "      <td>...</td>\n",
       "      <td>...</td>\n",
       "      <td>...</td>\n",
       "      <td>...</td>\n",
       "      <td>...</td>\n",
       "      <td>...</td>\n",
       "      <td>...</td>\n",
       "      <td>...</td>\n",
       "      <td>...</td>\n",
       "      <td>...</td>\n",
       "      <td>...</td>\n",
       "      <td>...</td>\n",
       "      <td>...</td>\n",
       "      <td>...</td>\n",
       "      <td>...</td>\n",
       "      <td>...</td>\n",
       "      <td>...</td>\n",
       "      <td>...</td>\n",
       "    </tr>\n",
       "    <tr>\n",
       "      <th>886</th>\n",
       "      <td>0</td>\n",
       "      <td>27.0</td>\n",
       "      <td>0</td>\n",
       "      <td>0</td>\n",
       "      <td>13.0000</td>\n",
       "      <td>NaN</td>\n",
       "      <td>NaN</td>\n",
       "      <td>NaN</td>\n",
       "      <td>NaN</td>\n",
       "      <td>NaN</td>\n",
       "      <td>...</td>\n",
       "      <td>NaN</td>\n",
       "      <td>NaN</td>\n",
       "      <td>0</td>\n",
       "      <td>1</td>\n",
       "      <td>0</td>\n",
       "      <td>1</td>\n",
       "      <td>0</td>\n",
       "      <td>0</td>\n",
       "      <td>0</td>\n",
       "      <td>1</td>\n",
       "    </tr>\n",
       "    <tr>\n",
       "      <th>887</th>\n",
       "      <td>1</td>\n",
       "      <td>19.0</td>\n",
       "      <td>0</td>\n",
       "      <td>0</td>\n",
       "      <td>30.0000</td>\n",
       "      <td>NaN</td>\n",
       "      <td>NaN</td>\n",
       "      <td>1.0</td>\n",
       "      <td>NaN</td>\n",
       "      <td>NaN</td>\n",
       "      <td>...</td>\n",
       "      <td>NaN</td>\n",
       "      <td>NaN</td>\n",
       "      <td>1</td>\n",
       "      <td>0</td>\n",
       "      <td>1</td>\n",
       "      <td>0</td>\n",
       "      <td>0</td>\n",
       "      <td>0</td>\n",
       "      <td>0</td>\n",
       "      <td>1</td>\n",
       "    </tr>\n",
       "    <tr>\n",
       "      <th>888</th>\n",
       "      <td>0</td>\n",
       "      <td>16.0</td>\n",
       "      <td>1</td>\n",
       "      <td>2</td>\n",
       "      <td>23.4500</td>\n",
       "      <td>NaN</td>\n",
       "      <td>NaN</td>\n",
       "      <td>1.0</td>\n",
       "      <td>NaN</td>\n",
       "      <td>NaN</td>\n",
       "      <td>...</td>\n",
       "      <td>NaN</td>\n",
       "      <td>NaN</td>\n",
       "      <td>1</td>\n",
       "      <td>0</td>\n",
       "      <td>0</td>\n",
       "      <td>0</td>\n",
       "      <td>1</td>\n",
       "      <td>0</td>\n",
       "      <td>0</td>\n",
       "      <td>1</td>\n",
       "    </tr>\n",
       "    <tr>\n",
       "      <th>889</th>\n",
       "      <td>1</td>\n",
       "      <td>26.0</td>\n",
       "      <td>0</td>\n",
       "      <td>0</td>\n",
       "      <td>30.0000</td>\n",
       "      <td>1.0</td>\n",
       "      <td>NaN</td>\n",
       "      <td>NaN</td>\n",
       "      <td>NaN</td>\n",
       "      <td>NaN</td>\n",
       "      <td>...</td>\n",
       "      <td>NaN</td>\n",
       "      <td>NaN</td>\n",
       "      <td>0</td>\n",
       "      <td>1</td>\n",
       "      <td>1</td>\n",
       "      <td>0</td>\n",
       "      <td>0</td>\n",
       "      <td>1</td>\n",
       "      <td>0</td>\n",
       "      <td>0</td>\n",
       "    </tr>\n",
       "    <tr>\n",
       "      <th>890</th>\n",
       "      <td>0</td>\n",
       "      <td>32.0</td>\n",
       "      <td>0</td>\n",
       "      <td>0</td>\n",
       "      <td>7.7500</td>\n",
       "      <td>1.0</td>\n",
       "      <td>NaN</td>\n",
       "      <td>NaN</td>\n",
       "      <td>NaN</td>\n",
       "      <td>NaN</td>\n",
       "      <td>...</td>\n",
       "      <td>NaN</td>\n",
       "      <td>NaN</td>\n",
       "      <td>0</td>\n",
       "      <td>1</td>\n",
       "      <td>0</td>\n",
       "      <td>0</td>\n",
       "      <td>1</td>\n",
       "      <td>0</td>\n",
       "      <td>1</td>\n",
       "      <td>0</td>\n",
       "    </tr>\n",
       "  </tbody>\n",
       "</table>\n",
       "<p>891 rows × 29 columns</p>\n",
       "</div>"
      ]
     },
     "metadata": {},
     "execution_count": 26
    }
   ],
   "metadata": {}
  },
  {
   "cell_type": "markdown",
   "source": [
    "## Now to check for any other NaN values anywhere..."
   ],
   "metadata": {}
  },
  {
   "cell_type": "code",
   "execution_count": null,
   "source": [
    "train.isnull().sum().sum()"
   ],
   "outputs": [
    {
     "output_type": "execute_result",
     "data": {
      "text/plain": [
       "13361"
      ]
     },
     "metadata": {},
     "execution_count": 27
    }
   ],
   "metadata": {}
  },
  {
   "cell_type": "markdown",
   "source": [
    "## I'm going to use a random forest classifier, so I will elect to not scale the Age, Fare, SibSp, and Parch columns."
   ],
   "metadata": {}
  },
  {
   "cell_type": "code",
   "execution_count": null,
   "source": [
    "from sklearn.ensemble import RandomForestClassifier\n",
    "\n"
   ],
   "outputs": [],
   "metadata": {}
  },
  {
   "cell_type": "markdown",
   "source": [],
   "metadata": {}
  }
 ],
 "metadata": {
  "orig_nbformat": 4,
  "language_info": {
   "name": "python",
   "version": "3.8.5",
   "mimetype": "text/x-python",
   "codemirror_mode": {
    "name": "ipython",
    "version": 3
   },
   "pygments_lexer": "ipython3",
   "nbconvert_exporter": "python",
   "file_extension": ".py"
  },
  "kernelspec": {
   "name": "python3",
   "display_name": "Python 3.8.5 64-bit ('toxic': conda)"
  },
  "interpreter": {
   "hash": "c0ac4971e360b0f2dea732e840eb0c9c41456636b7685f248e181635d8e4811b"
  }
 },
 "nbformat": 4,
 "nbformat_minor": 2
}
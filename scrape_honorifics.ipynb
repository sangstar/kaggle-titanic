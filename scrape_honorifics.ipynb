{
 "cells": [
  {
   "cell_type": "code",
   "execution_count": 3,
   "source": [
    "from bs4 import BeautifulSoup\n",
    "from data_preprocessing.scraping import url_to_html\n",
    "\n",
    "honorifics_list = [\n",
    "  'Mr',\n",
    "  'Ms',\n",
    "  'Miss',\n",
    "  'Mrs',\n",
    "  'Mx',\n",
    "  'Master',\n",
    "  'Sir',\n",
    "  'Madam',\n",
    "  'Dame',\n",
    "  'Lord',\n",
    "  'Lady',\n",
    "  'Dr',\n",
    "  'Prof',\n",
    "  'Br',\n",
    "  'Sr',\n",
    "  'Fr',\n",
    "  'Rev',\n",
    "  'Pr',\n",
    "  'Elder'\n",
    "  'Major',\n",
    "  'Countess',\n",
    "  'Col',\n",
    "  'Capt',\n",
    "]"
   ],
   "outputs": [],
   "metadata": {}
  },
  {
   "cell_type": "code",
   "execution_count": 4,
   "source": [
    "to_lookup = ['French', 'Italian', 'German']\n",
    "honorifics = honorifics_list\n",
    "for language in to_lookup:\n",
    "    doc = url_to_html('https://en.wikipedia.org/wiki/'+language+'_honorifics')\n",
    "    soup = BeautifulSoup(doc, 'html.parser')\n",
    "    to_add = []\n",
    "    for italic in soup.find_all('i'):\n",
    "        to_add.append(italic.text)\n",
    "    honorifics = honorifics + list(set(to_add))\n",
    "honorifics = list(set(honorifics))\n"
   ],
   "outputs": [],
   "metadata": {}
  },
  {
   "cell_type": "code",
   "execution_count": 5,
   "source": [
    "import csv \n",
    "\n",
    "with open('files/honorifics.csv', 'w', newline='') as myfile:\n",
    "     wr = csv.writer(myfile, quoting=csv.QUOTE_ALL)\n",
    "     wr.writerow(honorifics)"
   ],
   "outputs": [],
   "metadata": {}
  },
  {
   "cell_type": "code",
   "execution_count": null,
   "source": [
    "import pandas as pd\n",
    "pd.read_csv('files/honorifics.csv').columns"
   ],
   "outputs": [],
   "metadata": {}
  },
  {
   "cell_type": "code",
   "execution_count": null,
   "source": [],
   "outputs": [],
   "metadata": {}
  }
 ],
 "metadata": {
  "orig_nbformat": 4,
  "language_info": {
   "name": "python",
   "version": "3.8.5",
   "mimetype": "text/x-python",
   "codemirror_mode": {
    "name": "ipython",
    "version": 3
   },
   "pygments_lexer": "ipython3",
   "nbconvert_exporter": "python",
   "file_extension": ".py"
  },
  "kernelspec": {
   "name": "python3",
   "display_name": "Python 3.8.5 64-bit ('toxic': conda)"
  },
  "interpreter": {
   "hash": "c0ac4971e360b0f2dea732e840eb0c9c41456636b7685f248e181635d8e4811b"
  }
 },
 "nbformat": 4,
 "nbformat_minor": 2
}